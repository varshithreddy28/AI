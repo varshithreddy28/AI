{
 "cells": [
  {
   "cell_type": "code",
   "execution_count": 1,
   "source": [
    "from scipy.optimize import linprog\r\n",
    "obj = [-50,-120]\r\n",
    "A_ieq = [[7000,2000],[10,30]]\r\n",
    "B_ieq = [700000,1200]\r\n",
    "boundarie=[(0,float(\"inf\")),(0,float(\"inf\"))]\r\n",
    "optimise = linprog(c=obj,A_ub=A_ieq,b_ub=B_ieq,bounds=boundarie,method=\"Simplex\")\r\n",
    "wheat,barley=optimise.x\r\n",
    "print(f'Wheat is {round(wheat)}')\r\n",
    "print(f'Barley is {round(barley)}')\r\n",
    "print(f'Profit is :{ (-obj[0]*round(wheat))+ (-obj[1]*round(barley))}')"
   ],
   "outputs": [
    {
     "output_type": "stream",
     "name": "stdout",
     "text": [
      "Wheat is 98\n",
      "Barley is 7\n",
      "Profit is :5740\n"
     ]
    }
   ],
   "metadata": {}
  }
 ],
 "metadata": {
  "orig_nbformat": 4,
  "language_info": {
   "name": "python",
   "version": "3.9.6",
   "mimetype": "text/x-python",
   "codemirror_mode": {
    "name": "ipython",
    "version": 3
   },
   "pygments_lexer": "ipython3",
   "nbconvert_exporter": "python",
   "file_extension": ".py"
  },
  "kernelspec": {
   "name": "python3",
   "display_name": "Python 3.9.6 64-bit"
  },
  "interpreter": {
   "hash": "d24ab658b48f3050f21005c099545349e06835255a028d577378ac9aa7918dee"
  }
 },
 "nbformat": 4,
 "nbformat_minor": 2
}