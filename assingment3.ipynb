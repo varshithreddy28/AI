{
 "cells": [
  {
   "cell_type": "code",
   "execution_count": 40,
   "source": [
    "import numpy as np\r\n",
    "import math as m\r\n",
    "\r\n",
    "x = np.random.uniform(-12,12)\r\n",
    "y = np.random.uniform(-12,12)\r\n",
    "\r\n",
    "eta = 0.008\r\n",
    "iterations = 10000\r\n",
    "\r\n",
    "for i in range(iterations):\r\n",
    "    gradx = 6*x\r\n",
    "    grady = -5*m.exp(-y)\r\n",
    "    stepx = -eta*gradx\r\n",
    "    stepy = -eta*grady\r\n",
    "    x+=stepx\r\n",
    "    y+=stepy\r\n",
    "\r\n",
    "x = round(x)\r\n",
    "y = round(y)\r\n",
    "\r\n",
    "print(f'The value of x,y : ',x,y)\r\n",
    "print(f'Minimum Value of f(x,y) : ',(3*x**2)+(5*m.exp(-y))+10)"
   ],
   "outputs": [
    {
     "output_type": "stream",
     "name": "stdout",
     "text": [
      "The value of x,y :  0 63\n",
      "Minimum Value of f(x,y) :  10.0\n"
     ]
    }
   ],
   "metadata": {}
  },
  {
   "cell_type": "code",
   "execution_count": null,
   "source": [],
   "outputs": [],
   "metadata": {}
  }
 ],
 "metadata": {
  "orig_nbformat": 4,
  "language_info": {
   "name": "python",
   "version": "3.9.6",
   "mimetype": "text/x-python",
   "codemirror_mode": {
    "name": "ipython",
    "version": 3
   },
   "pygments_lexer": "ipython3",
   "nbconvert_exporter": "python",
   "file_extension": ".py"
  },
  "kernelspec": {
   "name": "python3",
   "display_name": "Python 3.9.6 64-bit"
  },
  "interpreter": {
   "hash": "d24ab658b48f3050f21005c099545349e06835255a028d577378ac9aa7918dee"
  }
 },
 "nbformat": 4,
 "nbformat_minor": 2
}