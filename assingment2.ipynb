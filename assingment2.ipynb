{
 "cells": [
  {
   "cell_type": "code",
   "execution_count": 25,
   "source": [
    "import numpy as np\r\n",
    "\r\n",
    "x = np.random.uniform(-10,10)\r\n",
    "\r\n",
    "eta = 0.005\r\n",
    "iterations = 7000\r\n",
    "\r\n",
    "for i in range(iterations):\r\n",
    "    gradx = 4 * (x**3) + 6*x\r\n",
    "    stepx = -eta*gradx\r\n",
    "    x+=stepx\r\n",
    "\r\n",
    "x = round(x)\r\n",
    "print(f'The value of x is : ',x)\r\n",
    "print(f'Minimum Value of f(x) : ',(x**4)+3*x**2+10)"
   ],
   "outputs": [
    {
     "output_type": "stream",
     "name": "stdout",
     "text": [
      "The value of x is :  0\n",
      "Minimum Value of f(x) :  10\n"
     ]
    }
   ],
   "metadata": {}
  }
 ],
 "metadata": {
  "orig_nbformat": 4,
  "language_info": {
   "name": "python",
   "version": "3.9.6",
   "mimetype": "text/x-python",
   "codemirror_mode": {
    "name": "ipython",
    "version": 3
   },
   "pygments_lexer": "ipython3",
   "nbconvert_exporter": "python",
   "file_extension": ".py"
  },
  "kernelspec": {
   "name": "python3",
   "display_name": "Python 3.9.6 64-bit"
  },
  "interpreter": {
   "hash": "d24ab658b48f3050f21005c099545349e06835255a028d577378ac9aa7918dee"
  }
 },
 "nbformat": 4,
 "nbformat_minor": 2
}