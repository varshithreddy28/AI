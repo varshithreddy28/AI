{
 "cells": [
  {
   "cell_type": "code",
   "execution_count": 22,
   "id": "47bc4993",
   "metadata": {},
   "outputs": [],
   "source": [
    "import numpy as np\n",
    "import pandas as pd"
   ]
  },
  {
   "cell_type": "code",
   "execution_count": 23,
   "id": "d5181fc6",
   "metadata": {},
   "outputs": [],
   "source": [
    "data = pd.read_excel('assign5.xlsx')"
   ]
  },
  {
   "cell_type": "code",
   "execution_count": 24,
   "id": "d5b35a07",
   "metadata": {},
   "outputs": [
    {
     "data": {
      "text/html": [
       "<div>\n",
       "<style scoped>\n",
       "    .dataframe tbody tr th:only-of-type {\n",
       "        vertical-align: middle;\n",
       "    }\n",
       "\n",
       "    .dataframe tbody tr th {\n",
       "        vertical-align: top;\n",
       "    }\n",
       "\n",
       "    .dataframe thead th {\n",
       "        text-align: right;\n",
       "    }\n",
       "</style>\n",
       "<table border=\"1\" class=\"dataframe\">\n",
       "  <thead>\n",
       "    <tr style=\"text-align: right;\">\n",
       "      <th></th>\n",
       "      <th>Date</th>\n",
       "      <th>Time</th>\n",
       "      <th>Load (kW)</th>\n",
       "      <th>Unnamed: 3</th>\n",
       "      <th>Unnamed: 4</th>\n",
       "      <th>Unnamed: 5</th>\n",
       "      <th>Unnamed: 6</th>\n",
       "      <th>Unnamed: 7</th>\n",
       "      <th>Unnamed: 8</th>\n",
       "      <th>Unnamed: 9</th>\n",
       "    </tr>\n",
       "  </thead>\n",
       "  <tbody>\n",
       "    <tr>\n",
       "      <th>0</th>\n",
       "      <td>01.09.2018</td>\n",
       "      <td>1899-12-30 00:00:00</td>\n",
       "      <td>5551.82208</td>\n",
       "      <td>NaN</td>\n",
       "      <td>NaN</td>\n",
       "      <td>NaN</td>\n",
       "      <td>NaN</td>\n",
       "      <td>NaN</td>\n",
       "      <td>NaN</td>\n",
       "      <td>NaN</td>\n",
       "    </tr>\n",
       "    <tr>\n",
       "      <th>1</th>\n",
       "      <td>NaN</td>\n",
       "      <td>01:00:00</td>\n",
       "      <td>4983.17184</td>\n",
       "      <td>NaN</td>\n",
       "      <td>NaN</td>\n",
       "      <td>NaN</td>\n",
       "      <td>NaN</td>\n",
       "      <td>NaN</td>\n",
       "      <td>NaN</td>\n",
       "      <td>NaN</td>\n",
       "    </tr>\n",
       "    <tr>\n",
       "      <th>2</th>\n",
       "      <td>NaN</td>\n",
       "      <td>02:00:00</td>\n",
       "      <td>4888.39680</td>\n",
       "      <td>NaN</td>\n",
       "      <td>NaN</td>\n",
       "      <td>NaN</td>\n",
       "      <td>NaN</td>\n",
       "      <td>NaN</td>\n",
       "      <td>NaN</td>\n",
       "      <td>NaN</td>\n",
       "    </tr>\n",
       "    <tr>\n",
       "      <th>3</th>\n",
       "      <td>NaN</td>\n",
       "      <td>03:00:00</td>\n",
       "      <td>5072.95872</td>\n",
       "      <td>NaN</td>\n",
       "      <td>NaN</td>\n",
       "      <td>NaN</td>\n",
       "      <td>NaN</td>\n",
       "      <td>NaN</td>\n",
       "      <td>NaN</td>\n",
       "      <td>NaN</td>\n",
       "    </tr>\n",
       "    <tr>\n",
       "      <th>4</th>\n",
       "      <td>NaN</td>\n",
       "      <td>04:00:00</td>\n",
       "      <td>5196.25980</td>\n",
       "      <td>NaN</td>\n",
       "      <td>NaN</td>\n",
       "      <td>NaN</td>\n",
       "      <td>NaN</td>\n",
       "      <td>NaN</td>\n",
       "      <td>NaN</td>\n",
       "      <td>NaN</td>\n",
       "    </tr>\n",
       "    <tr>\n",
       "      <th>...</th>\n",
       "      <td>...</td>\n",
       "      <td>...</td>\n",
       "      <td>...</td>\n",
       "      <td>...</td>\n",
       "      <td>...</td>\n",
       "      <td>...</td>\n",
       "      <td>...</td>\n",
       "      <td>...</td>\n",
       "      <td>...</td>\n",
       "      <td>...</td>\n",
       "    </tr>\n",
       "    <tr>\n",
       "      <th>2179</th>\n",
       "      <td>NaN</td>\n",
       "      <td>1900-03-28 19:00:00</td>\n",
       "      <td>4626.51840</td>\n",
       "      <td>NaN</td>\n",
       "      <td>NaN</td>\n",
       "      <td>NaN</td>\n",
       "      <td>NaN</td>\n",
       "      <td>NaN</td>\n",
       "      <td>NaN</td>\n",
       "      <td>NaN</td>\n",
       "    </tr>\n",
       "    <tr>\n",
       "      <th>2180</th>\n",
       "      <td>NaN</td>\n",
       "      <td>1900-03-28 20:00:00</td>\n",
       "      <td>4567.90752</td>\n",
       "      <td>NaN</td>\n",
       "      <td>NaN</td>\n",
       "      <td>NaN</td>\n",
       "      <td>NaN</td>\n",
       "      <td>NaN</td>\n",
       "      <td>NaN</td>\n",
       "      <td>NaN</td>\n",
       "    </tr>\n",
       "    <tr>\n",
       "      <th>2181</th>\n",
       "      <td>NaN</td>\n",
       "      <td>1900-03-28 21:00:00</td>\n",
       "      <td>4723.63164</td>\n",
       "      <td>NaN</td>\n",
       "      <td>NaN</td>\n",
       "      <td>NaN</td>\n",
       "      <td>NaN</td>\n",
       "      <td>NaN</td>\n",
       "      <td>NaN</td>\n",
       "      <td>NaN</td>\n",
       "    </tr>\n",
       "    <tr>\n",
       "      <th>2182</th>\n",
       "      <td>NaN</td>\n",
       "      <td>1900-03-28 22:00:00</td>\n",
       "      <td>5150.27520</td>\n",
       "      <td>NaN</td>\n",
       "      <td>NaN</td>\n",
       "      <td>NaN</td>\n",
       "      <td>NaN</td>\n",
       "      <td>NaN</td>\n",
       "      <td>NaN</td>\n",
       "      <td>NaN</td>\n",
       "    </tr>\n",
       "    <tr>\n",
       "      <th>2183</th>\n",
       "      <td>NaN</td>\n",
       "      <td>1900-03-28 23:00:00</td>\n",
       "      <td>6938.37468</td>\n",
       "      <td>NaN</td>\n",
       "      <td>NaN</td>\n",
       "      <td>NaN</td>\n",
       "      <td>NaN</td>\n",
       "      <td>NaN</td>\n",
       "      <td>NaN</td>\n",
       "      <td>NaN</td>\n",
       "    </tr>\n",
       "  </tbody>\n",
       "</table>\n",
       "<p>2184 rows × 10 columns</p>\n",
       "</div>"
      ],
      "text/plain": [
       "            Date                 Time   Load (kW)  Unnamed: 3  Unnamed: 4  \\\n",
       "0     01.09.2018  1899-12-30 00:00:00  5551.82208         NaN         NaN   \n",
       "1            NaN             01:00:00  4983.17184         NaN         NaN   \n",
       "2            NaN             02:00:00  4888.39680         NaN         NaN   \n",
       "3            NaN             03:00:00  5072.95872         NaN         NaN   \n",
       "4            NaN             04:00:00  5196.25980         NaN         NaN   \n",
       "...          ...                  ...         ...         ...         ...   \n",
       "2179         NaN  1900-03-28 19:00:00  4626.51840         NaN         NaN   \n",
       "2180         NaN  1900-03-28 20:00:00  4567.90752         NaN         NaN   \n",
       "2181         NaN  1900-03-28 21:00:00  4723.63164         NaN         NaN   \n",
       "2182         NaN  1900-03-28 22:00:00  5150.27520         NaN         NaN   \n",
       "2183         NaN  1900-03-28 23:00:00  6938.37468         NaN         NaN   \n",
       "\n",
       "      Unnamed: 5  Unnamed: 6  Unnamed: 7  Unnamed: 8  Unnamed: 9  \n",
       "0            NaN         NaN         NaN         NaN         NaN  \n",
       "1            NaN         NaN         NaN         NaN         NaN  \n",
       "2            NaN         NaN         NaN         NaN         NaN  \n",
       "3            NaN         NaN         NaN         NaN         NaN  \n",
       "4            NaN         NaN         NaN         NaN         NaN  \n",
       "...          ...         ...         ...         ...         ...  \n",
       "2179         NaN         NaN         NaN         NaN         NaN  \n",
       "2180         NaN         NaN         NaN         NaN         NaN  \n",
       "2181         NaN         NaN         NaN         NaN         NaN  \n",
       "2182         NaN         NaN         NaN         NaN         NaN  \n",
       "2183         NaN         NaN         NaN         NaN         NaN  \n",
       "\n",
       "[2184 rows x 10 columns]"
      ]
     },
     "execution_count": 24,
     "metadata": {},
     "output_type": "execute_result"
    }
   ],
   "source": [
    "data"
   ]
  },
  {
   "cell_type": "code",
   "execution_count": 25,
   "id": "51881d1d",
   "metadata": {},
   "outputs": [],
   "source": [
    "lt_3=[]\n",
    "for i in range(0,data.shape[0]-3):\n",
    "    lt_3.append(data['Load (kW)'][i])"
   ]
  },
  {
   "cell_type": "code",
   "execution_count": 26,
   "id": "bcfc53c1",
   "metadata": {},
   "outputs": [],
   "source": [
    "lt_2=[]\n",
    "for i in range(1,data.shape[0]-2):\n",
    "    lt_2.append(data['Load (kW)'][i])"
   ]
  },
  {
   "cell_type": "code",
   "execution_count": 27,
   "id": "6a696075",
   "metadata": {},
   "outputs": [],
   "source": [
    "lt_1=[]\n",
    "for i in range(2,data.shape[0]-1):\n",
    "    lt_1.append(data['Load (kW)'][i])"
   ]
  },
  {
   "cell_type": "code",
   "execution_count": 28,
   "id": "0c53e061",
   "metadata": {},
   "outputs": [],
   "source": [
    "lt_0=[]\n",
    "for i in range(3,data.shape[0]-0):\n",
    "    lt_0.append(data['Load (kW)'][i])"
   ]
  },
  {
   "cell_type": "code",
   "execution_count": 29,
   "id": "60217197",
   "metadata": {},
   "outputs": [],
   "source": [
    "lt_3Max=np.max(lt_3)\n",
    "lt_2Max=np.max(lt_2)\n",
    "lt_1Max=np.max(lt_1)\n",
    "lt_0Max=np.max(lt_0)\n",
    "lt_3Min=np.min(lt_3)\n",
    "lt_2Min=np.min(lt_2)\n",
    "lt_1Min=np.min(lt_1)\n",
    "lt_0Min=np.min(lt_0)\n",
    "for i in range(len(lt_3)):\n",
    "    lt_0[i]=(lt_0[i]-lt_0Min)/(lt_0Max-lt_0Min)\n",
    "    lt_1[i]=(lt_1[i]-lt_1Min)/(lt_1Max-lt_1Min)\n",
    "    lt_2[i]=(lt_2[i]-lt_2Min)/(lt_2Max-lt_2Min)\n",
    "    lt_3[i]=(lt_3[i]-lt_3Min)/(lt_3Max-lt_3Min)"
   ]
  },
  {
   "cell_type": "code",
   "execution_count": 30,
   "id": "65be3360",
   "metadata": {},
   "outputs": [],
   "source": [
    "load=pd.DataFrame({'LT-3':lt_3,'LT-2':lt_2,'LT-1':lt_1, 'LT-0':lt_0})"
   ]
  },
  {
   "cell_type": "code",
   "execution_count": 31,
   "id": "15e1f85e",
   "metadata": {},
   "outputs": [],
   "source": [
    "from sklearn.model_selection import train_test_split\n",
    "X, y = load.drop('LT-0',axis=1),load['LT-0']\n",
    "x_train, x_test, y_train, y_test = train_test_split(X, y, test_size = 0.20, random_state = 10)"
   ]
  },
  {
   "cell_type": "code",
   "execution_count": 32,
   "id": "68f50a46",
   "metadata": {},
   "outputs": [
    {
     "name": "stdout",
     "output_type": "stream",
     "text": [
      "model parameter m and c -0.2174836101464578 0.041550607301541656 0.8595017898869277 0.15383958783388538\n"
     ]
    }
   ],
   "source": [
    "def gradient(m1,m2,m3,c,x1,x2,x3,y):\n",
    "    m1_deriv=-1*(y-m1*x1-m2*x2-m3*x3-c)*x1\n",
    "    m2_deriv=-1*(y-m1*x1-m2*x2-m3*x3-c)*x2\n",
    "    m3_deriv=-1*(y-m1*x1-m2*x2-m3*x3-c)*x3\n",
    "    c_deriv=-1*(y-m1*x1-m2*x2-m3*x3-c)\n",
    "    return m1_deriv,m2_deriv,m3_deriv,c_deriv\n",
    "import random\n",
    "m1=random.uniform(-1,1)\n",
    "m2=random.uniform(-1,1)\n",
    "m3=random.uniform(-1,1)\n",
    "c=random.uniform(-1,1)\n",
    "eta=0.01\n",
    "max_iter=500\n",
    "\n",
    "for iter in range(max_iter):\n",
    "    for i in range(x_train.shape[0]):\n",
    "        del_m1,del_m2,del_m3,del_c=gradient(m1,m2,m3,c,x_train.iat[i,0],x_train.iat[i,1],x_train.iat[i,2],y_train.iloc[i])\n",
    "        m1=m1-eta*del_m1\n",
    "        m2=m2-eta*del_m2\n",
    "        m3=m3-eta*del_m3\n",
    "        c=c-eta*del_c\n",
    "print('model parameter m and c',m1,m2,m3,c)"
   ]
  },
  {
   "cell_type": "code",
   "execution_count": 33,
   "id": "0a3b7510",
   "metadata": {},
   "outputs": [],
   "source": [
    "y_pred_train = []\n",
    "for i in range(x_train.shape[0]):\n",
    "    x1=x_train.iat[i,0]\n",
    "    x2=x_train.iat[i,1]\n",
    "    x3=x_train.iat[i,2]\n",
    "    y=y_train.iat[i]\n",
    "    y_pred = (m1 * x1) + c + (m2 * x2) + (m3 * x3)\n",
    "    y_pred_train.append(y_pred)\n",
    "y_pred_train = np.array(y_pred_train)"
   ]
  },
  {
   "cell_type": "code",
   "execution_count": 34,
   "id": "28b4cde7",
   "metadata": {},
   "outputs": [],
   "source": [
    "y_pred_test = []\n",
    "for i in range(x_test.shape[0]):\n",
    "    x1=x_test.iat[i,0]\n",
    "    x2=x_test.iat[i,1]\n",
    "    x3=x_test.iat[i,2]\n",
    "    y=y_test.iat[i]\n",
    "    y_pred = (m1 * x1) + c + (m2 * x2) + (m3 * x3)\n",
    "    y_pred_test.append(y_pred)\n",
    "y_pred_test = np.array(y_pred_test)"
   ]
  },
  {
   "cell_type": "code",
   "execution_count": 35,
   "id": "c2d5dbf9",
   "metadata": {},
   "outputs": [],
   "source": [
    "y_train_denorm=[]\n",
    "y_train_pred_denorm=[]\n",
    "for i in range(y_train.shape[0]):\n",
    "    y_train_denorm.append(y_train.iloc[i]*(lt_0Max-lt_0Min)+lt_0Min)\n",
    "    y_train_pred_denorm.append(y_pred_train[i]*(lt_0Max-lt_0Min)+lt_0Min)\n",
    "y_pred_train=y_train_pred_denorm\n",
    "y_train=y_train_denorm"
   ]
  },
  {
   "cell_type": "code",
   "execution_count": 36,
   "id": "7e141873",
   "metadata": {},
   "outputs": [],
   "source": [
    "y_test_denorm=[]\n",
    "y_test_pred_denorm=[]\n",
    "for i in range(y_test.shape[0]):\n",
    "    y_test_denorm.append(y_test.iloc[i]*(lt_0Max-lt_0Min)+lt_0Min)\n",
    "    y_test_pred_denorm.append(y_pred_test[i]*(lt_0Max-lt_0Min)+lt_0Min)\n",
    "y_pred_test=y_test_pred_denorm\n",
    "y_test=y_test_denorm"
   ]
  },
  {
   "cell_type": "code",
   "execution_count": 37,
   "id": "415bb750",
   "metadata": {},
   "outputs": [
    {
     "name": "stdout",
     "output_type": "stream",
     "text": [
      "Mean square error 415221.8389554815\n",
      "Root mean square error 644.377093754489\n",
      "Mean absolute error 445.7033113190417\n"
     ]
    }
   ],
   "source": [
    "import math\n",
    "from sklearn.metrics import mean_squared_error \n",
    "from sklearn.metrics import mean_absolute_error\n",
    "meanSquareErr=0\n",
    "root_meanSquareErr = 0\n",
    "meanAbsoluteError = 0\n",
    "for k in range(len(y_train)):\n",
    "    # print(y_train)\n",
    "    meanSquareErr += (y_train[k]-y_pred_train[k]) ** 2\n",
    "    meanAbsoluteError += abs(y_train[k]-y_pred_train[k])\n",
    "\n",
    "meanSquareErr = meanSquareErr/len(y_train)\n",
    "root_meanSquareErr = math.sqrt(meanSquareErr)\n",
    "meanAbsoluteError = meanAbsoluteError/len(y_train)\n",
    "print('Mean square error', meanSquareErr)\n",
    "print('Root mean square error', root_meanSquareErr) \n",
    "print('Mean absolute error', meanAbsoluteError)"
   ]
  },
  {
   "cell_type": "code",
   "execution_count": 38,
   "id": "664271ac",
   "metadata": {},
   "outputs": [
    {
     "name": "stdout",
     "output_type": "stream",
     "text": [
      "Mean square error 382516.44219182746\n",
      "Root mean square error 618.4791364240409\n",
      "Mean absolute error 441.309139299053\n"
     ]
    }
   ],
   "source": [
    "meanSquareErr=0\n",
    "root_meanSquareErr = 0\n",
    "meanAbsoluteError = 0\n",
    "for k in range(len(y_test)):\n",
    "    # print(y_train)\n",
    "    meanSquareErr += (y_test[k]-y_pred_test[k]) ** 2\n",
    "    meanAbsoluteError += abs(y_test[k]-y_pred_test[k])\n",
    "\n",
    "meanSquareErr = meanSquareErr/len(y_test)\n",
    "root_meanSquareErr = math.sqrt(meanSquareErr)\n",
    "meanAbsoluteError = meanAbsoluteError/len(y_test)\n",
    "print('Mean square error', meanSquareErr)\n",
    "print('Root mean square error', root_meanSquareErr) \n",
    "print('Mean absolute error', meanAbsoluteError)"
   ]
  },
  {
   "cell_type": "code",
   "execution_count": 39,
   "id": "07ae502a",
   "metadata": {},
   "outputs": [
    {
     "name": "stdout",
     "output_type": "stream",
     "text": [
      "LT-3 6000.0\n",
      "LT-2 500.0\n",
      "LT-1 4000.0\n",
      "Predicted Load: 4063.3010281889387\n"
     ]
    }
   ],
   "source": [
    "x1 = float(input(\"Enter load 3 hours before :\"))\n",
    "x2 = float(input(\"Enter load 2 hours before :\"))\n",
    "x3 = float(input(\"Enter load 1 hour before :\"))\n",
    "NormX1=(x1-lt_3Min)/(lt_3Max-lt_3Min)\n",
    "NormX2=(x2-lt_2Min)/(lt_2Max-lt_2Min)\n",
    "NormX3=(x3-lt_1Min)/(lt_1Max-lt_1Min)\n",
    "print('LT-3',x1)\n",
    "print('LT-2',x2)\n",
    "print('LT-1',x3)\n",
    "pred_y=NormX1*m1+NormX2*m2+NormX3*m3+c\n",
    "denormY = pred_y*(lt_0Max-lt_0Min)+lt_0Min\n",
    "print(\"Predicted Load:\",denormY)"
   ]
  },
  {
   "cell_type": "code",
   "execution_count": null,
   "metadata": {},
   "outputs": [],
   "source": []
  }
 ],
 "metadata": {
  "interpreter": {
   "hash": "916dbcbb3f70747c44a77c7bcd40155683ae19c65e1c03b4aa3499c5328201f1"
  },
  "kernelspec": {
   "display_name": "Python 3.9.7 64-bit",
   "name": "python3"
  },
  "language_info": {
   "codemirror_mode": {
    "name": "ipython",
    "version": 3
   },
   "file_extension": ".py",
   "mimetype": "text/x-python",
   "name": "python",
   "nbconvert_exporter": "python",
   "pygments_lexer": "ipython3",
   "version": "3.9.7"
  }
 },
 "nbformat": 4,
 "nbformat_minor": 5
}
